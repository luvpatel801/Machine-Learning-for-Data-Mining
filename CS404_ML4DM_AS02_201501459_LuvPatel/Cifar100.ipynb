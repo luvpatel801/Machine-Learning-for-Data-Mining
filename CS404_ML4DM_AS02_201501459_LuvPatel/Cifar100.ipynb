{
 "cells": [
  {
   "cell_type": "code",
   "execution_count": 0,
   "metadata": {
    "colab": {},
    "colab_type": "code",
    "id": "-7xwYbnyDgP8"
   },
   "outputs": [],
   "source": [
    "import keras"
   ]
  },
  {
   "cell_type": "code",
   "execution_count": 0,
   "metadata": {
    "colab": {},
    "colab_type": "code",
    "id": "n1_pHDmyDgQg"
   },
   "outputs": [],
   "source": [
    "import numpy as np\n",
    "from keras.models import Sequential\n",
    "from keras.optimizers import SGD\n",
    "from keras.initializers import random_normal\n",
    "from matplotlib import pyplot as plt\n",
    "from keras.layers import Flatten, Dense, Dropout, MaxPooling2D\n",
    "from keras.layers.convolutional import AveragePooling2D, Conv2D\n",
    "from keras.utils import to_categorical"
   ]
  },
  {
   "cell_type": "code",
   "execution_count": 0,
   "metadata": {
    "colab": {},
    "colab_type": "code",
    "id": "A47lYocfDgQq"
   },
   "outputs": [],
   "source": [
    "from keras.datasets import cifar100\n",
    "(x_train, y_train), (x_test, y_test) = cifar100.load_data()"
   ]
  },
  {
   "cell_type": "code",
   "execution_count": 49,
   "metadata": {
    "colab": {
     "base_uri": "https://localhost:8080/",
     "height": 34
    },
    "colab_type": "code",
    "id": "8dZ0lyL5DgRG",
    "outputId": "52ab0cc8-108a-4c33-dacf-bcd0f7af63ab"
   },
   "outputs": [
    {
     "data": {
      "text/plain": [
       "(50000, 32, 32, 3)"
      ]
     },
     "execution_count": 49,
     "metadata": {
      "tags": []
     },
     "output_type": "execute_result"
    }
   ],
   "source": [
    "import matplotlib.pyplot as plt\n",
    "x_train.shape"
   ]
  },
  {
   "cell_type": "code",
   "execution_count": 0,
   "metadata": {
    "colab": {},
    "colab_type": "code",
    "id": "60R2UnH7DgRr"
   },
   "outputs": [],
   "source": [
    "batch_size = 128\n",
    "epochs = 50\n",
    "num_classes = 100\n",
    "s = 1"
   ]
  },
  {
   "cell_type": "code",
   "execution_count": 0,
   "metadata": {
    "colab": {},
    "colab_type": "code",
    "id": "RdyWFx6sDgR1"
   },
   "outputs": [],
   "source": [
    "y_train = to_categorical(y_train, num_classes)\n",
    "y_test = to_categorical(y_test, num_classes)"
   ]
  },
  {
   "cell_type": "code",
   "execution_count": 0,
   "metadata": {
    "colab": {},
    "colab_type": "code",
    "id": "nlN2XadMDgSm"
   },
   "outputs": [],
   "source": [
    "x_train = x_train.astype('float32') \n",
    "x_test = x_test.astype('float32') \n",
    "x_train /= 255 \n",
    "x_test /= 255"
   ]
  },
  {
   "cell_type": "code",
   "execution_count": 0,
   "metadata": {
    "colab": {},
    "colab_type": "code",
    "id": "AUX3RNTDIHOr"
   },
   "outputs": [],
   "source": [
    "model = Sequential()"
   ]
  },
  {
   "cell_type": "code",
   "execution_count": 0,
   "metadata": {
    "colab": {},
    "colab_type": "code",
    "id": "o5KILb0_IIN7"
   },
   "outputs": [],
   "source": [
    "model.add(Conv2D(32,(3,3),input_shape = x_train[0].shape, activation = 'relu'))\n",
    "model.add(Dropout(0.2))\n",
    "model.add(MaxPooling2D(strides = (s,s)))\n",
    "model.add(Conv2D(64,(3,3),activation = 'relu'))\n",
    "model.add(Dropout(0.2))\n",
    "model.add(MaxPooling2D(strides = (s,s)))\n",
    "model.add(Conv2D(128,(3,3),activation = 'relu'))\n",
    "model.add(Dropout(0.2))\n",
    "model.add(Flatten())\n",
    "model.add(Dense(512, activation = 'relu'))\n",
    "\n",
    "model.add(Dense(num_classes, activation = 'softmax'))"
   ]
  },
  {
   "cell_type": "code",
   "execution_count": 0,
   "metadata": {
    "colab": {},
    "colab_type": "code",
    "id": "wZc7L-H2IKOj"
   },
   "outputs": [],
   "source": [
    "model.compile(loss = 'categorical_crossentropy', optimizer = SGD(), metrics = ['accuracy'])"
   ]
  },
  {
   "cell_type": "code",
   "execution_count": 47,
   "metadata": {
    "colab": {
     "base_uri": "https://localhost:8080/",
     "height": 1734
    },
    "colab_type": "code",
    "id": "EYN5ab7UIS6E",
    "outputId": "90e44950-515b-441b-bda9-3435cd64646b"
   },
   "outputs": [
    {
     "name": "stdout",
     "output_type": "stream",
     "text": [
      "Train on 50000 samples, validate on 10000 samples\n",
      "Epoch 1/50\n",
      "50000/50000 [==============================] - 38s 766us/step - loss: 4.3560 - acc: 0.0450 - val_loss: 4.1328 - val_acc: 0.0808\n",
      "Epoch 2/50\n",
      "50000/50000 [==============================] - 37s 742us/step - loss: 3.9006 - acc: 0.1120 - val_loss: 3.8657 - val_acc: 0.1279\n",
      "Epoch 3/50\n",
      "50000/50000 [==============================] - 37s 742us/step - loss: 3.6292 - acc: 0.1617 - val_loss: 3.6944 - val_acc: 0.1764\n",
      "Epoch 4/50\n",
      "50000/50000 [==============================] - 37s 743us/step - loss: 3.4058 - acc: 0.2011 - val_loss: 3.5358 - val_acc: 0.1965\n",
      "Epoch 5/50\n",
      "50000/50000 [==============================] - 37s 743us/step - loss: 3.1988 - acc: 0.2405 - val_loss: 3.3654 - val_acc: 0.2294\n",
      "Epoch 6/50\n",
      "50000/50000 [==============================] - 37s 742us/step - loss: 2.9954 - acc: 0.2783 - val_loss: 3.1972 - val_acc: 0.2640\n",
      "Epoch 7/50\n",
      "50000/50000 [==============================] - 37s 743us/step - loss: 2.8154 - acc: 0.3143 - val_loss: 3.1308 - val_acc: 0.2702\n",
      "Epoch 8/50\n",
      "50000/50000 [==============================] - 37s 741us/step - loss: 2.6439 - acc: 0.3492 - val_loss: 2.9847 - val_acc: 0.2974\n",
      "Epoch 9/50\n",
      "50000/50000 [==============================] - 37s 741us/step - loss: 2.4891 - acc: 0.3800 - val_loss: 2.8881 - val_acc: 0.3195\n",
      "Epoch 10/50\n",
      "50000/50000 [==============================] - 37s 742us/step - loss: 2.3236 - acc: 0.4125 - val_loss: 2.9219 - val_acc: 0.3043\n",
      "Epoch 11/50\n",
      "50000/50000 [==============================] - 37s 743us/step - loss: 2.1556 - acc: 0.4482 - val_loss: 2.7611 - val_acc: 0.3341\n",
      "Epoch 12/50\n",
      "50000/50000 [==============================] - 37s 743us/step - loss: 1.9838 - acc: 0.4857 - val_loss: 2.7132 - val_acc: 0.3438\n",
      "Epoch 13/50\n",
      "50000/50000 [==============================] - 37s 742us/step - loss: 1.8120 - acc: 0.5261 - val_loss: 2.7013 - val_acc: 0.3412\n",
      "Epoch 14/50\n",
      "50000/50000 [==============================] - 37s 743us/step - loss: 1.6296 - acc: 0.5648 - val_loss: 2.6882 - val_acc: 0.3415\n",
      "Epoch 15/50\n",
      "50000/50000 [==============================] - 37s 746us/step - loss: 1.4408 - acc: 0.6101 - val_loss: 2.6696 - val_acc: 0.3504\n",
      "Epoch 16/50\n",
      "50000/50000 [==============================] - 37s 743us/step - loss: 1.2420 - acc: 0.6615 - val_loss: 2.7741 - val_acc: 0.3315\n",
      "Epoch 17/50\n",
      "50000/50000 [==============================] - 37s 743us/step - loss: 1.0554 - acc: 0.7063 - val_loss: 2.7172 - val_acc: 0.3527\n",
      "Epoch 18/50\n",
      "50000/50000 [==============================] - 37s 744us/step - loss: 0.8582 - acc: 0.7578 - val_loss: 2.8338 - val_acc: 0.3417\n",
      "Epoch 19/50\n",
      "50000/50000 [==============================] - 37s 747us/step - loss: 0.6868 - acc: 0.8050 - val_loss: 3.0222 - val_acc: 0.3306\n",
      "Epoch 20/50\n",
      "50000/50000 [==============================] - 37s 746us/step - loss: 0.5387 - acc: 0.8455 - val_loss: 2.9576 - val_acc: 0.3490\n",
      "Epoch 21/50\n",
      "50000/50000 [==============================] - 37s 745us/step - loss: 0.4006 - acc: 0.8858 - val_loss: 3.2427 - val_acc: 0.3288\n",
      "Epoch 22/50\n",
      "50000/50000 [==============================] - 37s 745us/step - loss: 0.2993 - acc: 0.9151 - val_loss: 3.3100 - val_acc: 0.3376\n",
      "Epoch 23/50\n",
      "50000/50000 [==============================] - 37s 742us/step - loss: 0.2333 - acc: 0.9353 - val_loss: 3.3530 - val_acc: 0.3469\n",
      "Epoch 24/50\n",
      "50000/50000 [==============================] - 37s 743us/step - loss: 0.1784 - acc: 0.9507 - val_loss: 3.5413 - val_acc: 0.3395\n",
      "Epoch 25/50\n",
      "50000/50000 [==============================] - 37s 743us/step - loss: 0.1457 - acc: 0.9610 - val_loss: 3.5210 - val_acc: 0.3500\n",
      "Epoch 26/50\n",
      "50000/50000 [==============================] - 37s 742us/step - loss: 0.1092 - acc: 0.9711 - val_loss: 3.6016 - val_acc: 0.3562\n",
      "Epoch 27/50\n",
      "50000/50000 [==============================] - 37s 743us/step - loss: 0.0965 - acc: 0.9737 - val_loss: 3.6294 - val_acc: 0.3618\n",
      "Epoch 28/50\n",
      "50000/50000 [==============================] - 37s 743us/step - loss: 0.0743 - acc: 0.9812 - val_loss: 3.7563 - val_acc: 0.3537\n",
      "Epoch 29/50\n",
      "50000/50000 [==============================] - 37s 742us/step - loss: 0.0681 - acc: 0.9834 - val_loss: 3.7840 - val_acc: 0.3541\n",
      "Epoch 30/50\n",
      "50000/50000 [==============================] - 37s 742us/step - loss: 0.0557 - acc: 0.9868 - val_loss: 3.7439 - val_acc: 0.3603\n",
      "Epoch 31/50\n",
      "50000/50000 [==============================] - 37s 746us/step - loss: 0.0446 - acc: 0.9906 - val_loss: 3.8880 - val_acc: 0.3546\n",
      "Epoch 32/50\n",
      "50000/50000 [==============================] - 37s 744us/step - loss: 0.0389 - acc: 0.9920 - val_loss: 3.9046 - val_acc: 0.3565\n",
      "Epoch 33/50\n",
      "50000/50000 [==============================] - 37s 742us/step - loss: 0.0401 - acc: 0.9914 - val_loss: 4.0195 - val_acc: 0.3566\n",
      "Epoch 34/50\n",
      "50000/50000 [==============================] - 37s 742us/step - loss: 0.0349 - acc: 0.9924 - val_loss: 3.9556 - val_acc: 0.3617\n",
      "Epoch 35/50\n",
      "50000/50000 [==============================] - 37s 743us/step - loss: 0.0315 - acc: 0.9934 - val_loss: 3.9637 - val_acc: 0.3574\n",
      "Epoch 36/50\n",
      "50000/50000 [==============================] - 37s 743us/step - loss: 0.0305 - acc: 0.9934 - val_loss: 4.0423 - val_acc: 0.3569\n",
      "Epoch 37/50\n",
      "50000/50000 [==============================] - 37s 743us/step - loss: 0.0273 - acc: 0.9944 - val_loss: 4.0874 - val_acc: 0.3578\n",
      "Epoch 38/50\n",
      "50000/50000 [==============================] - 37s 739us/step - loss: 0.0270 - acc: 0.9944 - val_loss: 4.1363 - val_acc: 0.3599\n",
      "Epoch 39/50\n",
      "50000/50000 [==============================] - 37s 739us/step - loss: 0.0244 - acc: 0.9951 - val_loss: 4.1204 - val_acc: 0.3637\n",
      "Epoch 40/50\n",
      "50000/50000 [==============================] - 37s 737us/step - loss: 0.0246 - acc: 0.9949 - val_loss: 4.1018 - val_acc: 0.3642\n",
      "Epoch 41/50\n",
      "50000/50000 [==============================] - 37s 737us/step - loss: 0.0195 - acc: 0.9966 - val_loss: 4.2428 - val_acc: 0.3587\n",
      "Epoch 42/50\n",
      "50000/50000 [==============================] - 37s 741us/step - loss: 0.0182 - acc: 0.9971 - val_loss: 4.1585 - val_acc: 0.3650\n",
      "Epoch 43/50\n",
      "50000/50000 [==============================] - 37s 743us/step - loss: 0.0162 - acc: 0.9974 - val_loss: 4.1890 - val_acc: 0.3644\n",
      "Epoch 44/50\n",
      "50000/50000 [==============================] - 37s 739us/step - loss: 0.0180 - acc: 0.9968 - val_loss: 4.1665 - val_acc: 0.3648\n",
      "Epoch 45/50\n",
      "50000/50000 [==============================] - 37s 738us/step - loss: 0.0158 - acc: 0.9974 - val_loss: 4.1807 - val_acc: 0.3692\n",
      "Epoch 46/50\n",
      "50000/50000 [==============================] - 37s 740us/step - loss: 0.0169 - acc: 0.9972 - val_loss: 4.1956 - val_acc: 0.3637\n",
      "Epoch 47/50\n",
      "50000/50000 [==============================] - 37s 741us/step - loss: 0.0148 - acc: 0.9977 - val_loss: 4.2077 - val_acc: 0.3625\n",
      "Epoch 48/50\n",
      "50000/50000 [==============================] - 37s 743us/step - loss: 0.0136 - acc: 0.9981 - val_loss: 4.2549 - val_acc: 0.3648\n",
      "Epoch 49/50\n",
      "50000/50000 [==============================] - 37s 742us/step - loss: 0.0170 - acc: 0.9969 - val_loss: 4.2435 - val_acc: 0.3613\n",
      "Epoch 50/50\n",
      "50000/50000 [==============================] - 37s 741us/step - loss: 0.0153 - acc: 0.9973 - val_loss: 4.2385 - val_acc: 0.3642\n"
     ]
    }
   ],
   "source": [
    "history = model.fit(x_train, y_train,\n",
    "                                batch_size = batch_size,\n",
    "                                epochs = epochs,\n",
    "                                verbose = 1,\n",
    "                                validation_data = (x_test,y_test))"
   ]
  },
  {
   "cell_type": "code",
   "execution_count": 48,
   "metadata": {
    "colab": {
     "base_uri": "https://localhost:8080/",
     "height": 364
    },
    "colab_type": "code",
    "id": "6XBbo6fiIVbL",
    "outputId": "e64fd553-6db8-4df9-f367-6aae0a5d4312"
   },
   "outputs": [
    {
     "data": {
      "text/plain": [
       "[<matplotlib.lines.Line2D at 0x7f2b15218b70>]"
      ]
     },
     "execution_count": 48,
     "metadata": {
      "tags": []
     },
     "output_type": "execute_result"
    },
    {
     "data": {
      "image/png": "[encoded data removed]",
      "text/plain": [
       "<matplotlib.figure.Figure at 0x7f2b15218470>"
      ]
     },
     "metadata": {
      "tags": []
     },
     "output_type": "display_data"
    }
   ],
   "source": [
    "plt.plot(history.history['val_acc'])\n",
    "plt.plot(history.history['acc'])"
   ]
  }
 ],
 "metadata": {
  "accelerator": "GPU",
  "colab": {
   "name": "Cifar100.ipynb",
   "provenance": [],
   "version": "0.3.2"
  },
  "kernelspec": {
   "display_name": "Python 3",
   "language": "python",
   "name": "python3"
  },
  "language_info": {
   "codemirror_mode": {
    "name": "ipython",
    "version": 3
   },
   "file_extension": ".py",
   "mimetype": "text/x-python",
   "name": "python",
   "nbconvert_exporter": "python",
   "pygments_lexer": "ipython3",
   "version": "3.6.5"
  }
 },
 "nbformat": 4,
 "nbformat_minor": 1
}

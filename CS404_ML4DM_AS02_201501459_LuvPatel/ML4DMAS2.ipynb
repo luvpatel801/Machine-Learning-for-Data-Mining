{
 "cells": [
  {
   "cell_type": "code",
   "execution_count": 2,
   "metadata": {
    "colab": {
     "base_uri": "https://localhost:8080/",
     "height": 34
    },
    "colab_type": "code",
    "id": "HdUliYgZpbpt",
    "outputId": "ae5333f2-b5e4-44fb-8629-4b3f2abd41c6"
   },
   "outputs": [],
   "source": [
    "import keras"
   ]
  },
  {
   "cell_type": "code",
   "execution_count": 1,
   "metadata": {
    "colab": {},
    "colab_type": "code",
    "id": "VyLo6nqwpbqA"
   },
   "outputs": [
    {
     "name": "stderr",
     "output_type": "stream",
     "text": [
      "/anaconda3/lib/python3.6/site-packages/h5py/__init__.py:36: FutureWarning: Conversion of the second argument of issubdtype from `float` to `np.floating` is deprecated. In future, it will be treated as `np.float64 == np.dtype(float).type`.\n",
      "  from ._conv import register_converters as _register_converters\n",
      "Using TensorFlow backend.\n",
      "/anaconda3/lib/python3.6/importlib/_bootstrap.py:219: RuntimeWarning: compiletime version 3.5 of module 'tensorflow.python.framework.fast_tensor_util' does not match runtime version 3.6\n",
      "  return f(*args, **kwds)\n"
     ]
    }
   ],
   "source": [
    "import numpy as np\n",
    "from keras.models import Sequential\n",
    "from keras.optimizers import SGD\n",
    "from keras.initializers import random_normal\n",
    "from matplotlib import pyplot as plt\n",
    "from keras.layers import Flatten, Dense, Dropout, MaxPooling2D\n",
    "from keras.layers.convolutional import AveragePooling2D, Conv2D\n",
    "from keras.utils import to_categorical"
   ]
  },
  {
   "cell_type": "code",
   "execution_count": 3,
   "metadata": {
    "colab": {},
    "colab_type": "code",
    "id": "F3z2a86vpbqI"
   },
   "outputs": [],
   "source": [
    "from keras.datasets import cifar10\n",
    "(x_train, y_train), (x_test, y_test) = cifar10.load_data()"
   ]
  },
  {
   "cell_type": "code",
   "execution_count": 4,
   "metadata": {
    "colab": {
     "base_uri": "https://localhost:8080/",
     "height": 364
    },
    "colab_type": "code",
    "id": "sXC1cKV9pbqO",
    "outputId": "e561abd0-2c1f-402c-e39d-d5a5feb2bc9e"
   },
   "outputs": [
    {
     "data": {
      "text/plain": [
       "<matplotlib.image.AxesImage at 0xb31998630>"
      ]
     },
     "execution_count": 4,
     "metadata": {},
     "output_type": "execute_result"
    },
    {
     "data": {
      "image/png": "[encoded data removed]",
      "text/plain": [
       "<Figure size 432x288 with 1 Axes>"
      ]
     },
     "metadata": {},
     "output_type": "display_data"
    }
   ],
   "source": [
    "import matplotlib.pyplot as plt\n",
    "plt.imshow(x_train[4])"
   ]
  },
  {
   "cell_type": "code",
   "execution_count": 5,
   "metadata": {
    "colab": {},
    "colab_type": "code",
    "id": "VbgM7VtyqK49"
   },
   "outputs": [],
   "source": [
    "batch_size = 128\n",
    "epochs = 50\n",
    "num_classes = 10\n",
    "s = 2"
   ]
  },
  {
   "cell_type": "code",
   "execution_count": 6,
   "metadata": {
    "colab": {},
    "colab_type": "code",
    "id": "uAVf-REepbqa"
   },
   "outputs": [],
   "source": [
    "y_train = to_categorical(y_train, num_classes)\n",
    "y_test = to_categorical(y_test, num_classes)"
   ]
  },
  {
   "cell_type": "code",
   "execution_count": 7,
   "metadata": {
    "colab": {},
    "colab_type": "code",
    "id": "-Zxy3GKypbqg"
   },
   "outputs": [],
   "source": [
    "x_train = x_train.astype('float32') \n",
    "x_test = x_test.astype('float32') \n",
    "x_train /= 255 \n",
    "x_test /= 255"
   ]
  },
  {
   "cell_type": "code",
   "execution_count": 8,
   "metadata": {
    "colab": {},
    "colab_type": "code",
    "id": "f0vsU1TUpbql"
   },
   "outputs": [],
   "source": [
    "model = Sequential()"
   ]
  },
  {
   "cell_type": "code",
   "execution_count": 9,
   "metadata": {
    "colab": {},
    "colab_type": "code",
    "id": "exy0F1_bpbqu"
   },
   "outputs": [],
   "source": [
    "model.add(Conv2D(32,(3,3),input_shape = x_train[0].shape, activation = 'relu'))\n",
    "model.add(Dropout(0.2))\n",
    "model.add(MaxPooling2D(strides = (s,s)))\n",
    "model.add(Conv2D(64,(3,3),activation = 'relu'))\n",
    "model.add(Dropout(0.2))\n",
    "model.add(MaxPooling2D(strides = (s,s)))\n",
    "model.add(Conv2D(128,(3,3),activation = 'relu'))\n",
    "model.add(Dropout(0.2))\n",
    "model.add(Flatten())\n",
    "model.add(Dense(512, activation = 'relu'))\n",
    "\n",
    "model.add(Dense(num_classes, activation = 'softmax'))"
   ]
  },
  {
   "cell_type": "code",
   "execution_count": 10,
   "metadata": {
    "colab": {},
    "colab_type": "code",
    "id": "m_UJimoApbq0"
   },
   "outputs": [],
   "source": [
    "model.compile(loss = 'categorical_crossentropy', optimizer = SGD(), metrics = ['accuracy'])"
   ]
  },
  {
   "cell_type": "code",
   "execution_count": null,
   "metadata": {
    "colab": {
     "base_uri": "https://localhost:8080/",
     "height": 1734
    },
    "colab_type": "code",
    "id": "Vx9oHHm5pbq-",
    "outputId": "c17efab3-1601-49a1-f00f-0c04d1179be1"
   },
   "outputs": [
    {
     "name": "stdout",
     "output_type": "stream",
     "text": [
      "Train on 50000 samples, validate on 10000 samples\n",
      "Epoch 1/50\n",
      "50000/50000 [==============================] - 123s 2ms/step - loss: 2.2429 - acc: 0.1612 - val_loss: 2.1549 - val_acc: 0.2363\n",
      "Epoch 2/50\n",
      "50000/50000 [==============================] - 126s 3ms/step - loss: 1.9895 - acc: 0.2775 - val_loss: 1.9311 - val_acc: 0.3378\n",
      "Epoch 3/50\n",
      "50000/50000 [==============================] - 114s 2ms/step - loss: 1.8403 - acc: 0.3404 - val_loss: 1.8110 - val_acc: 0.3740\n",
      "Epoch 4/50\n",
      "50000/50000 [==============================] - 126s 3ms/step - loss: 1.7171 - acc: 0.3847 - val_loss: 1.7003 - val_acc: 0.4203\n",
      "Epoch 5/50\n",
      "50000/50000 [==============================] - 111s 2ms/step - loss: 1.6207 - acc: 0.4161 - val_loss: 1.7471 - val_acc: 0.3988\n",
      "Epoch 6/50\n",
      "39936/50000 [======================>.......] - ETA: 2:56 - loss: 1.5561 - acc: 0.4375"
     ]
    }
   ],
   "source": [
    "history = model.fit(x_train, y_train,\n",
    "                                batch_size = batch_size,\n",
    "                                epochs = epochs,\n",
    "                                verbose = 1,\n",
    "                                validation_data = (x_test,y_test))"
   ]
  },
  {
   "cell_type": "code",
   "execution_count": null,
   "metadata": {
    "colab": {
     "base_uri": "https://localhost:8080/",
     "height": 364
    },
    "colab_type": "code",
    "id": "Q9x206NppbrG",
    "outputId": "c6e1c1cc-ad04-4fb7-a704-0437387af5a3"
   },
   "outputs": [],
   "source": [
    "plt.plot(history.history['val_acc'])\n",
    "plt.plot(history.history['acc'])"
   ]
  },
  {
   "cell_type": "code",
   "execution_count": 0,
   "metadata": {
    "colab": {},
    "colab_type": "code",
    "id": "svMpb8qLpbrP"
   },
   "outputs": [],
   "source": []
  }
 ],
 "metadata": {
  "accelerator": "GPU",
  "colab": {
   "name": "ML4DMAS2.ipynb",
   "provenance": [],
   "version": "0.3.2"
  },
  "kernelspec": {
   "display_name": "Python 3",
   "language": "python",
   "name": "python3"
  },
  "language_info": {
   "codemirror_mode": {
    "name": "ipython",
    "version": 3
   },
   "file_extension": ".py",
   "mimetype": "text/x-python",
   "name": "python",
   "nbconvert_exporter": "python",
   "pygments_lexer": "ipython3",
   "version": "3.6.5"
  }
 },
 "nbformat": 4,
 "nbformat_minor": 1
}
